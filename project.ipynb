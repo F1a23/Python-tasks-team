{
 "cells": [
  {
   "cell_type": "code",
   "execution_count": 5,
   "id": "9b8d8714-2bad-4f8a-866a-18b4572e9a67",
   "metadata": {},
   "outputs": [
    {
     "name": "stdout",
     "output_type": "stream",
     "text": [
      "Collecting openpyxl\n",
      "  Downloading openpyxl-3.1.5-py2.py3-none-any.whl.metadata (2.5 kB)\n",
      "Collecting et-xmlfile (from openpyxl)\n",
      "  Downloading et_xmlfile-2.0.0-py3-none-any.whl.metadata (2.7 kB)\n",
      "Downloading openpyxl-3.1.5-py2.py3-none-any.whl (250 kB)\n",
      "Downloading et_xmlfile-2.0.0-py3-none-any.whl (18 kB)\n",
      "Installing collected packages: et-xmlfile, openpyxl\n",
      "\n",
      "   -------------------- ------------------- 1/2 [openpyxl]\n",
      "   -------------------- ------------------- 1/2 [openpyxl]\n",
      "   -------------------- ------------------- 1/2 [openpyxl]\n",
      "   -------------------- ------------------- 1/2 [openpyxl]\n",
      "   -------------------- ------------------- 1/2 [openpyxl]\n",
      "   -------------------- ------------------- 1/2 [openpyxl]\n",
      "   -------------------- ------------------- 1/2 [openpyxl]\n",
      "   -------------------- ------------------- 1/2 [openpyxl]\n",
      "   -------------------- ------------------- 1/2 [openpyxl]\n",
      "   -------------------- ------------------- 1/2 [openpyxl]\n",
      "   -------------------- ------------------- 1/2 [openpyxl]\n",
      "   -------------------- ------------------- 1/2 [openpyxl]\n",
      "   -------------------- ------------------- 1/2 [openpyxl]\n",
      "   -------------------- ------------------- 1/2 [openpyxl]\n",
      "   -------------------- ------------------- 1/2 [openpyxl]\n",
      "   -------------------- ------------------- 1/2 [openpyxl]\n",
      "   -------------------- ------------------- 1/2 [openpyxl]\n",
      "   -------------------- ------------------- 1/2 [openpyxl]\n",
      "   -------------------- ------------------- 1/2 [openpyxl]\n",
      "   -------------------- ------------------- 1/2 [openpyxl]\n",
      "   -------------------- ------------------- 1/2 [openpyxl]\n",
      "   -------------------- ------------------- 1/2 [openpyxl]\n",
      "   -------------------- ------------------- 1/2 [openpyxl]\n",
      "   -------------------- ------------------- 1/2 [openpyxl]\n",
      "   -------------------- ------------------- 1/2 [openpyxl]\n",
      "   -------------------- ------------------- 1/2 [openpyxl]\n",
      "   -------------------- ------------------- 1/2 [openpyxl]\n",
      "   -------------------- ------------------- 1/2 [openpyxl]\n",
      "   -------------------- ------------------- 1/2 [openpyxl]\n",
      "   -------------------- ------------------- 1/2 [openpyxl]\n",
      "   -------------------- ------------------- 1/2 [openpyxl]\n",
      "   -------------------- ------------------- 1/2 [openpyxl]\n",
      "   ---------------------------------------- 2/2 [openpyxl]\n",
      "\n",
      "Successfully installed et-xmlfile-2.0.0 openpyxl-3.1.5\n"
     ]
    }
   ],
   "source": [
    "!pip install openpyxl"
   ]
  },
  {
   "cell_type": "code",
   "execution_count": null,
   "id": "060a3013-f640-435a-a221-9f734a2bf4e5",
   "metadata": {},
   "outputs": [],
   "source": [
    "import pandas as pd"
   ]
  },
  {
   "cell_type": "code",
   "execution_count": 23,
   "id": "74f429d6-a2d9-489f-85f5-a97be2655bc4",
   "metadata": {},
   "outputs": [
    {
     "data": {
      "text/html": [
       "<div>\n",
       "<style scoped>\n",
       "    .dataframe tbody tr th:only-of-type {\n",
       "        vertical-align: middle;\n",
       "    }\n",
       "\n",
       "    .dataframe tbody tr th {\n",
       "        vertical-align: top;\n",
       "    }\n",
       "\n",
       "    .dataframe thead th {\n",
       "        text-align: right;\n",
       "    }\n",
       "</style>\n",
       "<table border=\"1\" class=\"dataframe\">\n",
       "  <thead>\n",
       "    <tr style=\"text-align: right;\">\n",
       "      <th></th>\n",
       "      <th>User ID</th>\n",
       "      <th>Age Group</th>\n",
       "      <th>Gender</th>\n",
       "      <th>Most Used Social Media Platform</th>\n",
       "      <th>Daily Screen Time (hours)</th>\n",
       "      <th>Primary Purpose of Use</th>\n",
       "      <th>Preferred Content Type</th>\n",
       "      <th>Influence on Buying Decisions</th>\n",
       "      <th>Privacy Concern Level</th>\n",
       "      <th>Would you reduce social media usage?</th>\n",
       "    </tr>\n",
       "  </thead>\n",
       "  <tbody>\n",
       "    <tr>\n",
       "      <th>0</th>\n",
       "      <td>ID8841</td>\n",
       "      <td>31-50</td>\n",
       "      <td>Other</td>\n",
       "      <td>Instagram</td>\n",
       "      <td>3-4</td>\n",
       "      <td>News</td>\n",
       "      <td>Articles</td>\n",
       "      <td>Yes</td>\n",
       "      <td>Low</td>\n",
       "      <td>No</td>\n",
       "    </tr>\n",
       "    <tr>\n",
       "      <th>1</th>\n",
       "      <td>ID4281</td>\n",
       "      <td>0-18</td>\n",
       "      <td>Female</td>\n",
       "      <td>Twitter</td>\n",
       "      <td>3-4</td>\n",
       "      <td>Business</td>\n",
       "      <td>Images</td>\n",
       "      <td>No</td>\n",
       "      <td>Medium</td>\n",
       "      <td>Yes</td>\n",
       "    </tr>\n",
       "    <tr>\n",
       "      <th>2</th>\n",
       "      <td>ID2312</td>\n",
       "      <td>19-30</td>\n",
       "      <td>Female</td>\n",
       "      <td>Twitter</td>\n",
       "      <td>5-6</td>\n",
       "      <td>News</td>\n",
       "      <td>Videos</td>\n",
       "      <td>Sometimes</td>\n",
       "      <td>High</td>\n",
       "      <td>Yes</td>\n",
       "    </tr>\n",
       "    <tr>\n",
       "      <th>3</th>\n",
       "      <td>ID1038</td>\n",
       "      <td>19-30</td>\n",
       "      <td>Male</td>\n",
       "      <td>Facebook</td>\n",
       "      <td>3-4</td>\n",
       "      <td>News</td>\n",
       "      <td>Videos</td>\n",
       "      <td>No</td>\n",
       "      <td>Medium</td>\n",
       "      <td>Maybe</td>\n",
       "    </tr>\n",
       "    <tr>\n",
       "      <th>4</th>\n",
       "      <td>ID3610</td>\n",
       "      <td>31-50</td>\n",
       "      <td>Female</td>\n",
       "      <td>Instagram</td>\n",
       "      <td>5-6</td>\n",
       "      <td>Business</td>\n",
       "      <td>Videos</td>\n",
       "      <td>Sometimes</td>\n",
       "      <td>High</td>\n",
       "      <td>Yes</td>\n",
       "    </tr>\n",
       "    <tr>\n",
       "      <th>...</th>\n",
       "      <td>...</td>\n",
       "      <td>...</td>\n",
       "      <td>...</td>\n",
       "      <td>...</td>\n",
       "      <td>...</td>\n",
       "      <td>...</td>\n",
       "      <td>...</td>\n",
       "      <td>...</td>\n",
       "      <td>...</td>\n",
       "      <td>...</td>\n",
       "    </tr>\n",
       "    <tr>\n",
       "      <th>994</th>\n",
       "      <td>ID7392</td>\n",
       "      <td>31-50</td>\n",
       "      <td>Other</td>\n",
       "      <td>Twitter</td>\n",
       "      <td>5-6</td>\n",
       "      <td>Entertainment</td>\n",
       "      <td>Videos</td>\n",
       "      <td>Sometimes</td>\n",
       "      <td>Low</td>\n",
       "      <td>Yes</td>\n",
       "    </tr>\n",
       "    <tr>\n",
       "      <th>995</th>\n",
       "      <td>ID5572</td>\n",
       "      <td>31-50</td>\n",
       "      <td>Female</td>\n",
       "      <td>Facebook</td>\n",
       "      <td>3-4</td>\n",
       "      <td>Business</td>\n",
       "      <td>Videos</td>\n",
       "      <td>Yes</td>\n",
       "      <td>Low</td>\n",
       "      <td>Maybe</td>\n",
       "    </tr>\n",
       "    <tr>\n",
       "      <th>996</th>\n",
       "      <td>ID4520</td>\n",
       "      <td>31-50</td>\n",
       "      <td>Male</td>\n",
       "      <td>Facebook</td>\n",
       "      <td>1-2</td>\n",
       "      <td>Entertainment</td>\n",
       "      <td>Images</td>\n",
       "      <td>Yes</td>\n",
       "      <td>High</td>\n",
       "      <td>No</td>\n",
       "    </tr>\n",
       "    <tr>\n",
       "      <th>997</th>\n",
       "      <td>ID9105</td>\n",
       "      <td>19-30</td>\n",
       "      <td>Female</td>\n",
       "      <td>Twitter</td>\n",
       "      <td>1-2</td>\n",
       "      <td>Business</td>\n",
       "      <td>Videos</td>\n",
       "      <td>Yes</td>\n",
       "      <td>Low</td>\n",
       "      <td>No</td>\n",
       "    </tr>\n",
       "    <tr>\n",
       "      <th>998</th>\n",
       "      <td>ID8551</td>\n",
       "      <td>0-18</td>\n",
       "      <td>Male</td>\n",
       "      <td>Instagram</td>\n",
       "      <td>3-4</td>\n",
       "      <td>Entertainment</td>\n",
       "      <td>Articles</td>\n",
       "      <td>Sometimes</td>\n",
       "      <td>High</td>\n",
       "      <td>No</td>\n",
       "    </tr>\n",
       "  </tbody>\n",
       "</table>\n",
       "<p>999 rows × 10 columns</p>\n",
       "</div>"
      ],
      "text/plain": [
       "    User ID Age Group  Gender Most Used Social Media Platform  \\\n",
       "0    ID8841     31-50   Other                       Instagram   \n",
       "1    ID4281      0-18  Female                         Twitter   \n",
       "2    ID2312     19-30  Female                         Twitter   \n",
       "3    ID1038     19-30    Male                        Facebook   \n",
       "4    ID3610     31-50  Female                       Instagram   \n",
       "..      ...       ...     ...                             ...   \n",
       "994  ID7392     31-50   Other                         Twitter   \n",
       "995  ID5572     31-50  Female                        Facebook   \n",
       "996  ID4520     31-50    Male                        Facebook   \n",
       "997  ID9105     19-30  Female                         Twitter   \n",
       "998  ID8551      0-18    Male                       Instagram   \n",
       "\n",
       "    Daily Screen Time (hours) Primary Purpose of Use Preferred Content Type  \\\n",
       "0                         3-4                   News               Articles   \n",
       "1                         3-4               Business                 Images   \n",
       "2                         5-6                   News                 Videos   \n",
       "3                         3-4                   News                 Videos   \n",
       "4                         5-6               Business                 Videos   \n",
       "..                        ...                    ...                    ...   \n",
       "994                       5-6          Entertainment                 Videos   \n",
       "995                       3-4               Business                 Videos   \n",
       "996                       1-2          Entertainment                 Images   \n",
       "997                       1-2               Business                 Videos   \n",
       "998                       3-4          Entertainment               Articles   \n",
       "\n",
       "    Influence on Buying Decisions Privacy Concern Level  \\\n",
       "0                             Yes                   Low   \n",
       "1                              No                Medium   \n",
       "2                       Sometimes                  High   \n",
       "3                              No                Medium   \n",
       "4                       Sometimes                  High   \n",
       "..                            ...                   ...   \n",
       "994                     Sometimes                   Low   \n",
       "995                           Yes                   Low   \n",
       "996                           Yes                  High   \n",
       "997                           Yes                   Low   \n",
       "998                     Sometimes                  High   \n",
       "\n",
       "    Would you reduce social media usage?  \n",
       "0                                     No  \n",
       "1                                    Yes  \n",
       "2                                    Yes  \n",
       "3                                  Maybe  \n",
       "4                                    Yes  \n",
       "..                                   ...  \n",
       "994                                  Yes  \n",
       "995                                Maybe  \n",
       "996                                   No  \n",
       "997                                   No  \n",
       "998                                   No  \n",
       "\n",
       "[999 rows x 10 columns]"
      ]
     },
     "execution_count": 23,
     "metadata": {},
     "output_type": "execute_result"
    }
   ],
   "source": [
    "#2. Load the dataset into a pandas DataFrame. \n",
    "df = pd.read_excel(\"_Social Media Usage Survey.xlsx\")\n",
    "df"
   ]
  },
  {
   "cell_type": "code",
   "execution_count": 24,
   "id": "deb8535f-5229-4364-bff0-78b7f6f946f0",
   "metadata": {},
   "outputs": [
    {
     "data": {
      "text/plain": [
       "User ID                                 0\n",
       "Age Group                               0\n",
       "Gender                                  0\n",
       "Most Used Social Media Platform         0\n",
       "Daily Screen Time (hours)               0\n",
       "Primary Purpose of Use                  0\n",
       "Preferred Content Type                  0\n",
       "Influence on Buying Decisions           0\n",
       "Privacy Concern Level                   0\n",
       "Would you reduce social media usage?    0\n",
       "dtype: int64"
      ]
     },
     "execution_count": 24,
     "metadata": {},
     "output_type": "execute_result"
    }
   ],
   "source": [
    "# quick count of missing values per column\n",
    "df.isnull().sum() "
   ]
  },
  {
   "cell_type": "markdown",
   "id": "fedde6bc-2030-493f-ab56-d3443b205b45",
   "metadata": {},
   "source": [
    "3.     Perform data cleaning and preprocessing: "
   ]
  },
  {
   "cell_type": "code",
   "execution_count": 25,
   "id": "6614b6c8-2104-43b0-8901-73518f4781ef",
   "metadata": {},
   "outputs": [],
   "source": [
    "# 3.1 Drop completely empty columns\n",
    "df.dropna(axis=1, how=\"all\", inplace=True)"
   ]
  },
  {
   "cell_type": "code",
   "execution_count": 26,
   "id": "04be781e-c28c-4eef-842d-7920331239d2",
   "metadata": {},
   "outputs": [],
   "source": [
    "# 3.2 Strip spaces from column names and text values\n",
    "df.columns = df.columns.str.strip()"
   ]
  },
  {
   "cell_type": "code",
   "execution_count": 27,
   "id": "d9b44cb2-f579-483c-8ada-c00858f79a3b",
   "metadata": {},
   "outputs": [],
   "source": [
    "# 3.3 Convert the numeric column to numbers (invalid -> NaN)\n",
    "df[\"Daily Screen Time (hours)\"] = pd.to_numeric(df[\"Daily Screen Time (hours)\"], errors=\"coerce\")"
   ]
  },
  {
   "cell_type": "code",
   "execution_count": 32,
   "id": "2bdd3990-e17f-4c7f-b74d-19656ba462d9",
   "metadata": {},
   "outputs": [],
   "source": [
    "# 3.4 Fill missing numeric\n",
    "mean_value = df[\"Daily Screen Time (hours)\"].mean()  # calculate mean of the column\n",
    "df[\"Daily Screen Time (hours)\"] = df[\"Daily Screen Time (hours)\"].fillna(mean_value)  # fill missing with mean"
   ]
  },
  {
   "cell_type": "code",
   "execution_count": 33,
   "id": "d8c455e9-8a9d-48bd-9b03-be882a8ce3a1",
   "metadata": {},
   "outputs": [
    {
     "data": {
      "text/plain": [
       "dtype('float64')"
      ]
     },
     "execution_count": 33,
     "metadata": {},
     "output_type": "execute_result"
    }
   ],
   "source": [
    "df[\"Daily Screen Time (hours)\"].dtype"
   ]
  },
  {
   "cell_type": "code",
   "execution_count": 29,
   "id": "a4ab8c70-45b0-47f5-9c90-6851125276bf",
   "metadata": {},
   "outputs": [],
   "source": [
    "# 3.5 Fill missing text with 'Unknown'\n",
    "text_cols = [\"User ID\",\"Age Group\",\"Gender\",\"Most Used Social Media Platform\",\n",
    "             \"Primary Purpose of Use\",\"Preferred Content Type\",\n",
    "             \"Influence on Buying Decisions\",\"Privacy Concern Level\",\n",
    "             \"Would you reduce social media usage?\"]\n",
    "for c in text_cols:\n",
    "    if c in df.columns:\n",
    "        df[c] = df[c].fillna(\"Unknown\").astype(str).str.strip()"
   ]
  },
  {
   "cell_type": "code",
   "execution_count": 30,
   "id": "e3de80ab-2633-4278-ae81-8ce74e6827a3",
   "metadata": {},
   "outputs": [],
   "source": [
    "# 3.7 Remove duplicate rows if any\n",
    "df.drop_duplicates(inplace=True)"
   ]
  },
  {
   "cell_type": "code",
   "execution_count": 31,
   "id": "5801db1c-0eb6-403c-84d8-8ec062154608",
   "metadata": {},
   "outputs": [
    {
     "name": "stdout",
     "output_type": "stream",
     "text": [
      "<class 'pandas.core.frame.DataFrame'>\n",
      "RangeIndex: 999 entries, 0 to 998\n",
      "Data columns (total 10 columns):\n",
      " #   Column                                Non-Null Count  Dtype  \n",
      "---  ------                                --------------  -----  \n",
      " 0   User ID                               999 non-null    object \n",
      " 1   Age Group                             999 non-null    object \n",
      " 2   Gender                                999 non-null    object \n",
      " 3   Most Used Social Media Platform       999 non-null    object \n",
      " 4   Daily Screen Time (hours)             0 non-null      float64\n",
      " 5   Primary Purpose of Use                999 non-null    object \n",
      " 6   Preferred Content Type                999 non-null    object \n",
      " 7   Influence on Buying Decisions         999 non-null    object \n",
      " 8   Privacy Concern Level                 999 non-null    object \n",
      " 9   Would you reduce social media usage?  999 non-null    object \n",
      "dtypes: float64(1), object(9)\n",
      "memory usage: 78.2+ KB\n"
     ]
    }
   ],
   "source": [
    "# 3.8 Quick sanity check after cleaning\n",
    "df.info()  # types + non-null counts"
   ]
  },
  {
   "cell_type": "code",
   "execution_count": 34,
   "id": "174dfe0a-9d96-49d7-ab42-e4556c564d7f",
   "metadata": {},
   "outputs": [
    {
     "data": {
      "text/plain": [
       "(999, 10)"
      ]
     },
     "execution_count": 34,
     "metadata": {},
     "output_type": "execute_result"
    }
   ],
   "source": [
    "df.shape"
   ]
  },
  {
   "cell_type": "markdown",
   "id": "09817dec-6847-4d2f-9146-8570223e754e",
   "metadata": {},
   "source": [
    "4. Perform data analysis using pandas: "
   ]
  },
  {
   "cell_type": "code",
   "execution_count": null,
   "id": "9803d4f2-bd45-4723-95be-4ccfb13b7fb7",
   "metadata": {},
   "outputs": [],
   "source": []
  }
 ],
 "metadata": {
  "kernelspec": {
   "display_name": "Python 3 (ipykernel)",
   "language": "python",
   "name": "python3"
  },
  "language_info": {
   "codemirror_mode": {
    "name": "ipython",
    "version": 3
   },
   "file_extension": ".py",
   "mimetype": "text/x-python",
   "name": "python",
   "nbconvert_exporter": "python",
   "pygments_lexer": "ipython3",
   "version": "3.11.9"
  }
 },
 "nbformat": 4,
 "nbformat_minor": 5
}
